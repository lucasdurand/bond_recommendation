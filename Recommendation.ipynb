{
 "cells": [
  {
   "cell_type": "code",
   "execution_count": 378,
   "metadata": {
    "ExecuteTime": {
     "end_time": "2019-07-06T03:31:41.773189Z",
     "start_time": "2019-07-06T03:31:41.769632Z"
    }
   },
   "outputs": [],
   "source": [
    "import pandas as pd\n",
    "import numpy as np\n",
    "from sklearn.metrics.pairwise import cosine_similarity\n",
    "from scipy.spatial.distance import cosine"
   ]
  },
  {
   "cell_type": "markdown",
   "metadata": {},
   "source": [
    "# Data\n",
    "\n",
    "Let's pull some starting data from NASDAQ on ETFs"
   ]
  },
  {
   "cell_type": "code",
   "execution_count": 413,
   "metadata": {
    "ExecuteTime": {
     "end_time": "2019-07-06T03:40:56.930808Z",
     "start_time": "2019-07-06T03:40:54.762333Z"
    }
   },
   "outputs": [],
   "source": [
    "nasdaq = 'https://www.nasdaq.com/screening/companies-by-name.aspx?letter=0&exchange=nasdaq&render=download'\n",
    "nyse = 'https://www.nasdaq.com/screening/companies-by-name.aspx?letter=0&exchange=nyse&render=download'\n",
    "amex = 'https://www.nasdaq.com/screening/companies-by-name.aspx?letter=0&exchange=amex&render=download'\n",
    "info = pd.concat([pd.read_csv(url) for url in [nasdaq, nyse, amex]])"
   ]
  },
  {
   "cell_type": "code",
   "execution_count": 414,
   "metadata": {
    "ExecuteTime": {
     "end_time": "2019-07-06T03:40:58.094687Z",
     "start_time": "2019-07-06T03:40:58.077634Z"
    }
   },
   "outputs": [],
   "source": [
    "info.MarketCap = pd.to_numeric(info.MarketCap.str.replace(\"$\",\"\").str.replace(\"M\",\"e6\").str.replace(\"B\",\"e9\"))"
   ]
  },
  {
   "cell_type": "code",
   "execution_count": 415,
   "metadata": {
    "ExecuteTime": {
     "end_time": "2019-07-06T03:41:02.961173Z",
     "start_time": "2019-07-06T03:40:59.315508Z"
    }
   },
   "outputs": [],
   "source": [
    "bonds = pd.read_csv('https://www.nasdaq.com/investing/etfs/etf-finder-results.aspx?download=Yes')\n",
    "bonds = pd.merge(bonds,info, how='left',on='Symbol', suffixes=('','_info'))\n",
    "bonds['NetChangeDirectionNum'] = bonds['NetChangeDirection'].map({'up':1,'down':-1,'unch':0})"
   ]
  },
  {
   "cell_type": "code",
   "execution_count": 416,
   "metadata": {
    "ExecuteTime": {
     "end_time": "2019-07-06T03:41:03.994169Z",
     "start_time": "2019-07-06T03:41:03.989082Z"
    }
   },
   "outputs": [],
   "source": [
    "num_cols = ['LastSale','NetChange','NetChangeDirectionNum','PercentChange','1YrPercentChange','MarketCap']\n",
    "num_cols_normed = [col+'_normed' for col in num_cols]"
   ]
  },
  {
   "cell_type": "code",
   "execution_count": 417,
   "metadata": {
    "ExecuteTime": {
     "end_time": "2019-07-06T03:41:05.044931Z",
     "start_time": "2019-07-06T03:41:05.032314Z"
    }
   },
   "outputs": [],
   "source": [
    "bonds = bonds.assign(**{col+'_normed':bonds[col] for col in num_cols})"
   ]
  },
  {
   "cell_type": "code",
   "execution_count": 418,
   "metadata": {
    "ExecuteTime": {
     "end_time": "2019-07-06T03:41:06.131738Z",
     "start_time": "2019-07-06T03:41:06.123866Z"
    }
   },
   "outputs": [],
   "source": [
    "# normalize\n",
    "def normalize_minmax(df):\n",
    "    return (df-df.min())/(df.max()-df.min())\n",
    "def normalize_mean(df):\n",
    "    return (df-df.mean())/df.std()"
   ]
  },
  {
   "cell_type": "code",
   "execution_count": 419,
   "metadata": {
    "ExecuteTime": {
     "end_time": "2019-07-06T03:41:07.234399Z",
     "start_time": "2019-07-06T03:41:07.207866Z"
    }
   },
   "outputs": [],
   "source": [
    "bonds[num_cols_normed] = normalize_minmax(bonds[num_cols_normed])"
   ]
  },
  {
   "cell_type": "code",
   "execution_count": 424,
   "metadata": {
    "ExecuteTime": {
     "end_time": "2019-07-06T03:41:24.525642Z",
     "start_time": "2019-07-06T03:41:24.513074Z"
    }
   },
   "outputs": [],
   "source": [
    "def top_n(df, n=10, i=0, num_cols=num_cols_normed, cosine_similarity=cosine_similarity, ignore_original=True):\n",
    "    \n",
    "    my_bond = df.iloc[i]\n",
    "    num_cols = [col for col in num_cols if not np.isnan(my_bond[col])]\n",
    "    print(f\"Performing Cosine Similarity with {num_cols}\")\n",
    "    df[num_cols] = df[num_cols].fillna(df[num_cols].mean())\n",
    "\n",
    "    # TODO: allow column weighting for cosine_similarity\n",
    "    cosine_sim = cosine_similarity(df[num_cols],df[num_cols])\n",
    "    \n",
    "    #top ten\n",
    "    sim_scores = list(enumerate(cosine_sim[i]))\n",
    "    sim_scores = sorted(sim_scores, key=lambda x: x[1], reverse=True)\n",
    "    sim_scores = sim_scores[ignore_original:n + 1]\n",
    "    sim_scores = pd.DataFrame(sim_scores)\n",
    "    \n",
    "    indexes,scores = sim_scores[0],sim_scores[1]\n",
    "    \n",
    "    top_ten = df.iloc[indexes].copy()\n",
    "    top_ten['cosine_sim']=scores.values\n",
    "    return top_ten"
   ]
  },
  {
   "cell_type": "code",
   "execution_count": 511,
   "metadata": {
    "ExecuteTime": {
     "end_time": "2019-07-06T04:22:16.920941Z",
     "start_time": "2019-07-06T04:22:16.810982Z"
    },
    "scrolled": false
   },
   "outputs": [
    {
     "name": "stdout",
     "output_type": "stream",
     "text": [
      "Performing Cosine Similarity with ['LastSale_normed', 'NetChange_normed', 'NetChangeDirectionNum_normed', 'PercentChange_normed', '1YrPercentChange_normed']\n"
     ]
    },
    {
     "data": {
      "text/html": [
       "<div>\n",
       "<style scoped>\n",
       "    .dataframe tbody tr th:only-of-type {\n",
       "        vertical-align: middle;\n",
       "    }\n",
       "\n",
       "    .dataframe tbody tr th {\n",
       "        vertical-align: top;\n",
       "    }\n",
       "\n",
       "    .dataframe thead th {\n",
       "        text-align: right;\n",
       "    }\n",
       "</style>\n",
       "<table border=\"1\" class=\"dataframe\">\n",
       "  <thead>\n",
       "    <tr style=\"text-align: right;\">\n",
       "      <th></th>\n",
       "      <th>Symbol</th>\n",
       "      <th>Name</th>\n",
       "      <th>LastSale</th>\n",
       "      <th>NetChange</th>\n",
       "      <th>NetChangeDirection</th>\n",
       "      <th>PercentChange</th>\n",
       "      <th>1YrPercentChange</th>\n",
       "      <th>Name_info</th>\n",
       "      <th>LastSale_info</th>\n",
       "      <th>MarketCap</th>\n",
       "      <th>...</th>\n",
       "      <th>Summary Quote</th>\n",
       "      <th>Unnamed: 8</th>\n",
       "      <th>NetChangeDirectionNum</th>\n",
       "      <th>LastSale_normed</th>\n",
       "      <th>NetChange_normed</th>\n",
       "      <th>NetChangeDirectionNum_normed</th>\n",
       "      <th>PercentChange_normed</th>\n",
       "      <th>1YrPercentChange_normed</th>\n",
       "      <th>MarketCap_normed</th>\n",
       "      <th>cosine_sim</th>\n",
       "    </tr>\n",
       "  </thead>\n",
       "  <tbody>\n",
       "    <tr>\n",
       "      <th>1</th>\n",
       "      <td>QDEF</td>\n",
       "      <td>FlexShares Quality Dividend Defensive Index Fund</td>\n",
       "      <td>45.6900</td>\n",
       "      <td>-0.0674</td>\n",
       "      <td>down</td>\n",
       "      <td>0.15</td>\n",
       "      <td>2.62</td>\n",
       "      <td>NaN</td>\n",
       "      <td>NaN</td>\n",
       "      <td>NaN</td>\n",
       "      <td>...</td>\n",
       "      <td>NaN</td>\n",
       "      <td>NaN</td>\n",
       "      <td>-1</td>\n",
       "      <td>0.120588</td>\n",
       "      <td>0.847467</td>\n",
       "      <td>0.0</td>\n",
       "      <td>0.008808</td>\n",
       "      <td>0.360462</td>\n",
       "      <td>NaN</td>\n",
       "      <td>1.000000</td>\n",
       "    </tr>\n",
       "    <tr>\n",
       "      <th>4</th>\n",
       "      <td>QDYN</td>\n",
       "      <td>FlexShares Quality Dynamic Index Fund</td>\n",
       "      <td>44.5614</td>\n",
       "      <td>-0.0820</td>\n",
       "      <td>down</td>\n",
       "      <td>0.18</td>\n",
       "      <td>3.44</td>\n",
       "      <td>NaN</td>\n",
       "      <td>NaN</td>\n",
       "      <td>NaN</td>\n",
       "      <td>...</td>\n",
       "      <td>NaN</td>\n",
       "      <td>NaN</td>\n",
       "      <td>-1</td>\n",
       "      <td>0.117409</td>\n",
       "      <td>0.847028</td>\n",
       "      <td>0.0</td>\n",
       "      <td>0.010570</td>\n",
       "      <td>0.363859</td>\n",
       "      <td>NaN</td>\n",
       "      <td>0.999986</td>\n",
       "    </tr>\n",
       "    <tr>\n",
       "      <th>2</th>\n",
       "      <td>QDF</td>\n",
       "      <td>FlexShares Quality Dividend Index Fund</td>\n",
       "      <td>45.5200</td>\n",
       "      <td>-0.0833</td>\n",
       "      <td>down</td>\n",
       "      <td>0.18</td>\n",
       "      <td>0.89</td>\n",
       "      <td>NaN</td>\n",
       "      <td>NaN</td>\n",
       "      <td>NaN</td>\n",
       "      <td>...</td>\n",
       "      <td>NaN</td>\n",
       "      <td>NaN</td>\n",
       "      <td>-1</td>\n",
       "      <td>0.120109</td>\n",
       "      <td>0.846989</td>\n",
       "      <td>0.0</td>\n",
       "      <td>0.010570</td>\n",
       "      <td>0.353297</td>\n",
       "      <td>NaN</td>\n",
       "      <td>0.999974</td>\n",
       "    </tr>\n",
       "    <tr>\n",
       "      <th>1320</th>\n",
       "      <td>HYLS</td>\n",
       "      <td>First Trust High Yield Long/Short ETF</td>\n",
       "      <td>48.2200</td>\n",
       "      <td>-0.0800</td>\n",
       "      <td>down</td>\n",
       "      <td>0.17</td>\n",
       "      <td>2.40</td>\n",
       "      <td>First Trust High Yield Long/Short ETF</td>\n",
       "      <td>48.22</td>\n",
       "      <td>1.250000e+09</td>\n",
       "      <td>...</td>\n",
       "      <td>https://www.nasdaq.com/symbol/hyls</td>\n",
       "      <td>NaN</td>\n",
       "      <td>-1</td>\n",
       "      <td>0.127715</td>\n",
       "      <td>0.847089</td>\n",
       "      <td>0.0</td>\n",
       "      <td>0.009982</td>\n",
       "      <td>0.359551</td>\n",
       "      <td>0.016587</td>\n",
       "      <td>0.999969</td>\n",
       "    </tr>\n",
       "    <tr>\n",
       "      <th>200</th>\n",
       "      <td>SHYG</td>\n",
       "      <td>iShares 0-5 Year High Yield Corporate Bond ETF</td>\n",
       "      <td>46.5700</td>\n",
       "      <td>-0.1100</td>\n",
       "      <td>down</td>\n",
       "      <td>0.24</td>\n",
       "      <td>0.65</td>\n",
       "      <td>NaN</td>\n",
       "      <td>NaN</td>\n",
       "      <td>NaN</td>\n",
       "      <td>...</td>\n",
       "      <td>NaN</td>\n",
       "      <td>NaN</td>\n",
       "      <td>-1</td>\n",
       "      <td>0.123067</td>\n",
       "      <td>0.846187</td>\n",
       "      <td>0.0</td>\n",
       "      <td>0.014093</td>\n",
       "      <td>0.352303</td>\n",
       "      <td>NaN</td>\n",
       "      <td>0.999949</td>\n",
       "    </tr>\n",
       "    <tr>\n",
       "      <th>256</th>\n",
       "      <td>SPHB</td>\n",
       "      <td>Invesco S&amp;P 500 High Beta ETF</td>\n",
       "      <td>43.2300</td>\n",
       "      <td>-0.0400</td>\n",
       "      <td>down</td>\n",
       "      <td>0.09</td>\n",
       "      <td>1.22</td>\n",
       "      <td>NaN</td>\n",
       "      <td>NaN</td>\n",
       "      <td>NaN</td>\n",
       "      <td>...</td>\n",
       "      <td>NaN</td>\n",
       "      <td>NaN</td>\n",
       "      <td>-1</td>\n",
       "      <td>0.113659</td>\n",
       "      <td>0.848290</td>\n",
       "      <td>0.0</td>\n",
       "      <td>0.005285</td>\n",
       "      <td>0.354664</td>\n",
       "      <td>NaN</td>\n",
       "      <td>0.999948</td>\n",
       "    </tr>\n",
       "  </tbody>\n",
       "</table>\n",
       "<p>6 rows × 23 columns</p>\n",
       "</div>"
      ],
      "text/plain": [
       "     Symbol                                              Name  LastSale  \\\n",
       "1      QDEF  FlexShares Quality Dividend Defensive Index Fund   45.6900   \n",
       "4      QDYN             FlexShares Quality Dynamic Index Fund   44.5614   \n",
       "2       QDF            FlexShares Quality Dividend Index Fund   45.5200   \n",
       "1320   HYLS             First Trust High Yield Long/Short ETF   48.2200   \n",
       "200    SHYG    iShares 0-5 Year High Yield Corporate Bond ETF   46.5700   \n",
       "256    SPHB                     Invesco S&P 500 High Beta ETF   43.2300   \n",
       "\n",
       "      NetChange NetChangeDirection  PercentChange  1YrPercentChange  \\\n",
       "1       -0.0674               down           0.15              2.62   \n",
       "4       -0.0820               down           0.18              3.44   \n",
       "2       -0.0833               down           0.18              0.89   \n",
       "1320    -0.0800               down           0.17              2.40   \n",
       "200     -0.1100               down           0.24              0.65   \n",
       "256     -0.0400               down           0.09              1.22   \n",
       "\n",
       "                                  Name_info  LastSale_info     MarketCap  ...  \\\n",
       "1                                       NaN            NaN           NaN  ...   \n",
       "4                                       NaN            NaN           NaN  ...   \n",
       "2                                       NaN            NaN           NaN  ...   \n",
       "1320  First Trust High Yield Long/Short ETF          48.22  1.250000e+09  ...   \n",
       "200                                     NaN            NaN           NaN  ...   \n",
       "256                                     NaN            NaN           NaN  ...   \n",
       "\n",
       "                           Summary Quote Unnamed: 8 NetChangeDirectionNum  \\\n",
       "1                                    NaN        NaN                    -1   \n",
       "4                                    NaN        NaN                    -1   \n",
       "2                                    NaN        NaN                    -1   \n",
       "1320  https://www.nasdaq.com/symbol/hyls        NaN                    -1   \n",
       "200                                  NaN        NaN                    -1   \n",
       "256                                  NaN        NaN                    -1   \n",
       "\n",
       "     LastSale_normed  NetChange_normed  NetChangeDirectionNum_normed  \\\n",
       "1           0.120588          0.847467                           0.0   \n",
       "4           0.117409          0.847028                           0.0   \n",
       "2           0.120109          0.846989                           0.0   \n",
       "1320        0.127715          0.847089                           0.0   \n",
       "200         0.123067          0.846187                           0.0   \n",
       "256         0.113659          0.848290                           0.0   \n",
       "\n",
       "      PercentChange_normed  1YrPercentChange_normed  MarketCap_normed  \\\n",
       "1                 0.008808                 0.360462               NaN   \n",
       "4                 0.010570                 0.363859               NaN   \n",
       "2                 0.010570                 0.353297               NaN   \n",
       "1320              0.009982                 0.359551          0.016587   \n",
       "200               0.014093                 0.352303               NaN   \n",
       "256               0.005285                 0.354664               NaN   \n",
       "\n",
       "      cosine_sim  \n",
       "1       1.000000  \n",
       "4       0.999986  \n",
       "2       0.999974  \n",
       "1320    0.999969  \n",
       "200     0.999949  \n",
       "256     0.999948  \n",
       "\n",
       "[6 rows x 23 columns]"
      ]
     },
     "execution_count": 511,
     "metadata": {},
     "output_type": "execute_result"
    }
   ],
   "source": [
    "top = top_n(bonds,i=1, n=5, num_cols=num_cols_normed, ignore_original=False)\n",
    "top"
   ]
  },
  {
   "cell_type": "markdown",
   "metadata": {},
   "source": [
    "# Visualize"
   ]
  },
  {
   "cell_type": "code",
   "execution_count": 512,
   "metadata": {
    "ExecuteTime": {
     "end_time": "2019-07-06T04:22:19.733912Z",
     "start_time": "2019-07-06T04:22:19.720806Z"
    },
    "code_folding": [
     6
    ]
   },
   "outputs": [
    {
     "data": {
      "text/html": [
       "        <script type=\"text/javascript\">\n",
       "        window.PlotlyConfig = {MathJaxConfig: 'local'};\n",
       "        if (window.MathJax) {MathJax.Hub.Config({SVG: {font: \"STIX-Web\"}});}\n",
       "        if (typeof require !== 'undefined') {\n",
       "        require.undef(\"plotly\");\n",
       "        requirejs.config({\n",
       "            paths: {\n",
       "                'plotly': ['https://cdn.plot.ly/plotly-latest.min']\n",
       "            }\n",
       "        });\n",
       "        require(['plotly'], function(Plotly) {\n",
       "            window._Plotly = Plotly;\n",
       "        });\n",
       "        }\n",
       "        </script>\n",
       "        "
      ]
     },
     "metadata": {},
     "output_type": "display_data"
    }
   ],
   "source": [
    "import cufflinks as cf\n",
    "cf.go_offline()\n",
    "\n",
    "import plotly.graph_objs as go\n",
    "from plotly.offline import iplot\n",
    "\n",
    "def make_polar_plot(df, num_cols):\n",
    "    theta = df[num_cols].columns\n",
    "    rs = df[num_cols].values\n",
    "    names = df.Symbol.values\n",
    "    \n",
    "    data = [go.Scatterpolar(\n",
    "      opacity = 0.5,\n",
    "      name = names[i],\n",
    "      text = names[i],\n",
    "      r = r,\n",
    "      theta = theta,\n",
    "      fill = 'toself'\n",
    "    ) for i,r in enumerate(rs)]\n",
    "\n",
    "    layout = go.Layout(\n",
    "      polar = dict(\n",
    "        radialaxis = dict(\n",
    "          visible = True\n",
    "        )\n",
    "      ),\n",
    "      showlegend = True\n",
    "    )\n",
    "\n",
    "    fig = go.Figure(data=data, layout=layout)\n",
    "    return iplot(fig)"
   ]
  },
  {
   "cell_type": "code",
   "execution_count": 513,
   "metadata": {
    "ExecuteTime": {
     "end_time": "2019-07-06T04:22:21.598196Z",
     "start_time": "2019-07-06T04:22:20.949706Z"
    }
   },
   "outputs": [
    {
     "data": {
      "application/vnd.plotly.v1+json": {
       "config": {
        "linkText": "Export to plot.ly",
        "plotlyServerURL": "https://plot.ly",
        "showLink": false
       },
       "data": [
        {
         "fill": "toself",
         "name": "QDEF",
         "opacity": 0.5,
         "r": [
          0.12058815244640995,
          0.847466995088689,
          0,
          0.008807985907222548,
          0.36046222664015903,
          null
         ],
         "text": "QDEF",
         "theta": [
          "LastSale_normed",
          "NetChange_normed",
          "NetChangeDirectionNum_normed",
          "PercentChange_normed",
          "1YrPercentChange_normed",
          "MarketCap_normed"
         ],
         "type": "scatterpolar",
         "uid": "f03f5828-b3a2-459e-9c5a-bfa8b632b53c"
        },
        {
         "fill": "toself",
         "name": "QDYN",
         "opacity": 0.5,
         "r": [
          0.1174090870679699,
          0.8470284315345218,
          0,
          0.010569583088667057,
          0.3638585155732273,
          null
         ],
         "text": "QDYN",
         "theta": [
          "LastSale_normed",
          "NetChange_normed",
          "NetChangeDirectionNum_normed",
          "PercentChange_normed",
          "1YrPercentChange_normed",
          "MarketCap_normed"
         ],
         "type": "scatterpolar",
         "uid": "fa35a194-2077-4015-b601-d8c8b251394a"
        },
        {
         "fill": "toself",
         "name": "QDF",
         "opacity": 0.5,
         "r": [
          0.1201092926959804,
          0.8469893813550412,
          0,
          0.010569583088667057,
          0.3532968853545394,
          null
         ],
         "text": "QDF",
         "theta": [
          "LastSale_normed",
          "NetChange_normed",
          "NetChangeDirectionNum_normed",
          "PercentChange_normed",
          "1YrPercentChange_normed",
          "MarketCap_normed"
         ],
         "type": "scatterpolar",
         "uid": "4fc85426-e906-4883-9189-dee7eb8a80f3"
        },
        {
         "fill": "toself",
         "name": "HYLS",
         "opacity": 0.5,
         "r": [
          0.12771471226162642,
          0.8470885087337229,
          0,
          0.009982384028185555,
          0.35955102717031145,
          0.01658683994090217
         ],
         "text": "HYLS",
         "theta": [
          "LastSale_normed",
          "NetChange_normed",
          "NetChangeDirectionNum_normed",
          "PercentChange_normed",
          "1YrPercentChange_normed",
          "MarketCap_normed"
         ],
         "type": "scatterpolar",
         "uid": "908970da-f66f-46ff-8138-da885ec21d71"
        },
        {
         "fill": "toself",
         "name": "SHYG",
         "opacity": 0.5,
         "r": [
          0.1230669558603983,
          0.8461873507457083,
          0,
          0.014092777451556076,
          0.3523028495692512,
          null
         ],
         "text": "SHYG",
         "theta": [
          "LastSale_normed",
          "NetChange_normed",
          "NetChangeDirectionNum_normed",
          "PercentChange_normed",
          "1YrPercentChange_normed",
          "MarketCap_normed"
         ],
         "type": "scatterpolar",
         "uid": "f22fe29d-3b8e-442d-9616-5effde40b2fb"
        },
        {
         "fill": "toself",
         "name": "SPHB",
         "opacity": 0.5,
         "r": [
          0.113658770175488,
          0.8482900527177423,
          0,
          0.005284791544333528,
          0.3546636845593108,
          null
         ],
         "text": "SPHB",
         "theta": [
          "LastSale_normed",
          "NetChange_normed",
          "NetChangeDirectionNum_normed",
          "PercentChange_normed",
          "1YrPercentChange_normed",
          "MarketCap_normed"
         ],
         "type": "scatterpolar",
         "uid": "7bfd9c89-2ea1-458a-aa10-7a21b9e9db5b"
        }
       ],
       "layout": {
        "polar": {
         "radialaxis": {
          "visible": true
         }
        },
        "showlegend": true
       }
      },
      "text/html": [
       "<div>\n",
       "        \n",
       "        \n",
       "            <div id=\"d4e2212a-293f-4642-a047-79ed450bea8b\" class=\"plotly-graph-div\" style=\"height:525px; width:100%;\"></div>\n",
       "            <script type=\"text/javascript\">\n",
       "                require([\"plotly\"], function(Plotly) {\n",
       "                    window.PLOTLYENV=window.PLOTLYENV || {};\n",
       "                    window.PLOTLYENV.BASE_URL='https://plot.ly';\n",
       "                    \n",
       "                if (document.getElementById(\"d4e2212a-293f-4642-a047-79ed450bea8b\")) {\n",
       "                    Plotly.newPlot(\n",
       "                        'd4e2212a-293f-4642-a047-79ed450bea8b',\n",
       "                        [{\"fill\": \"toself\", \"name\": \"QDEF\", \"opacity\": 0.5, \"r\": [0.12058815244640995, 0.847466995088689, 0.0, 0.008807985907222548, 0.36046222664015903, null], \"text\": \"QDEF\", \"theta\": [\"LastSale_normed\", \"NetChange_normed\", \"NetChangeDirectionNum_normed\", \"PercentChange_normed\", \"1YrPercentChange_normed\", \"MarketCap_normed\"], \"type\": \"scatterpolar\", \"uid\": \"f03f5828-b3a2-459e-9c5a-bfa8b632b53c\"}, {\"fill\": \"toself\", \"name\": \"QDYN\", \"opacity\": 0.5, \"r\": [0.1174090870679699, 0.8470284315345218, 0.0, 0.010569583088667057, 0.3638585155732273, null], \"text\": \"QDYN\", \"theta\": [\"LastSale_normed\", \"NetChange_normed\", \"NetChangeDirectionNum_normed\", \"PercentChange_normed\", \"1YrPercentChange_normed\", \"MarketCap_normed\"], \"type\": \"scatterpolar\", \"uid\": \"fa35a194-2077-4015-b601-d8c8b251394a\"}, {\"fill\": \"toself\", \"name\": \"QDF\", \"opacity\": 0.5, \"r\": [0.1201092926959804, 0.8469893813550412, 0.0, 0.010569583088667057, 0.3532968853545394, null], \"text\": \"QDF\", \"theta\": [\"LastSale_normed\", \"NetChange_normed\", \"NetChangeDirectionNum_normed\", \"PercentChange_normed\", \"1YrPercentChange_normed\", \"MarketCap_normed\"], \"type\": \"scatterpolar\", \"uid\": \"4fc85426-e906-4883-9189-dee7eb8a80f3\"}, {\"fill\": \"toself\", \"name\": \"HYLS\", \"opacity\": 0.5, \"r\": [0.12771471226162642, 0.8470885087337229, 0.0, 0.009982384028185555, 0.35955102717031145, 0.01658683994090217], \"text\": \"HYLS\", \"theta\": [\"LastSale_normed\", \"NetChange_normed\", \"NetChangeDirectionNum_normed\", \"PercentChange_normed\", \"1YrPercentChange_normed\", \"MarketCap_normed\"], \"type\": \"scatterpolar\", \"uid\": \"908970da-f66f-46ff-8138-da885ec21d71\"}, {\"fill\": \"toself\", \"name\": \"SHYG\", \"opacity\": 0.5, \"r\": [0.1230669558603983, 0.8461873507457083, 0.0, 0.014092777451556076, 0.3523028495692512, null], \"text\": \"SHYG\", \"theta\": [\"LastSale_normed\", \"NetChange_normed\", \"NetChangeDirectionNum_normed\", \"PercentChange_normed\", \"1YrPercentChange_normed\", \"MarketCap_normed\"], \"type\": \"scatterpolar\", \"uid\": \"f22fe29d-3b8e-442d-9616-5effde40b2fb\"}, {\"fill\": \"toself\", \"name\": \"SPHB\", \"opacity\": 0.5, \"r\": [0.113658770175488, 0.8482900527177423, 0.0, 0.005284791544333528, 0.3546636845593108, null], \"text\": \"SPHB\", \"theta\": [\"LastSale_normed\", \"NetChange_normed\", \"NetChangeDirectionNum_normed\", \"PercentChange_normed\", \"1YrPercentChange_normed\", \"MarketCap_normed\"], \"type\": \"scatterpolar\", \"uid\": \"7bfd9c89-2ea1-458a-aa10-7a21b9e9db5b\"}],\n",
       "                        {\"polar\": {\"radialaxis\": {\"visible\": true}}, \"showlegend\": true},\n",
       "                        {\"showLink\": false, \"linkText\": \"Export to plot.ly\", \"plotlyServerURL\": \"https://plot.ly\", \"responsive\": true}\n",
       "                    ).then(function(){\n",
       "                            \n",
       "var gd = document.getElementById('d4e2212a-293f-4642-a047-79ed450bea8b');\n",
       "var x = new MutationObserver(function (mutations, observer) {{\n",
       "        var display = window.getComputedStyle(gd).display;\n",
       "        if (!display || display === 'none') {{\n",
       "            console.log([gd, 'removed!']);\n",
       "            Plotly.purge(gd);\n",
       "            observer.disconnect();\n",
       "        }}\n",
       "}});\n",
       "\n",
       "// Listen for the removal of the full notebook cells\n",
       "var notebookContainer = gd.closest('#notebook-container');\n",
       "if (notebookContainer) {{\n",
       "    x.observe(notebookContainer, {childList: true});\n",
       "}}\n",
       "\n",
       "// Listen for the clearing of the current output cell\n",
       "var outputEl = gd.closest('.output');\n",
       "if (outputEl) {{\n",
       "    x.observe(outputEl, {childList: true});\n",
       "}}\n",
       "\n",
       "                        })\n",
       "                };\n",
       "                });\n",
       "            </script>\n",
       "        </div>"
      ]
     },
     "metadata": {},
     "output_type": "display_data"
    }
   ],
   "source": [
    "make_polar_plot(top, num_cols_normed)"
   ]
  }
 ],
 "metadata": {
  "kernelspec": {
   "display_name": "Python 3",
   "language": "python",
   "name": "python3"
  },
  "language_info": {
   "codemirror_mode": {
    "name": "ipython",
    "version": 3
   },
   "file_extension": ".py",
   "mimetype": "text/x-python",
   "name": "python",
   "nbconvert_exporter": "python",
   "pygments_lexer": "ipython3",
   "version": "3.6.7"
  },
  "varInspector": {
   "cols": {
    "lenName": 16,
    "lenType": 16,
    "lenVar": 40
   },
   "kernels_config": {
    "python": {
     "delete_cmd_postfix": "",
     "delete_cmd_prefix": "del ",
     "library": "var_list.py",
     "varRefreshCmd": "print(var_dic_list())"
    },
    "r": {
     "delete_cmd_postfix": ") ",
     "delete_cmd_prefix": "rm(",
     "library": "var_list.r",
     "varRefreshCmd": "cat(var_dic_list()) "
    }
   },
   "types_to_exclude": [
    "module",
    "function",
    "builtin_function_or_method",
    "instance",
    "_Feature"
   ],
   "window_display": false
  }
 },
 "nbformat": 4,
 "nbformat_minor": 2
}
